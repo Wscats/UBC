{
 "cells": [
  {
   "cell_type": "markdown",
   "metadata": {},
   "source": [
    "#  Tutorial Questions - Intro to Python (Tutorial A)\n",
    "\n",
    "**Pre-Tutorial Work:**\n",
    "\n",
    "None this week."
   ]
  },
  {
   "cell_type": "markdown",
   "metadata": {},
   "source": [
    "## Problem 1\n",
    "\n",
    "Write a statement that finds the second letter of the value stored in the variable `colour` and assigns it to a new variable. Make sure to choose a meaningful name for your new variable."
   ]
  },
  {
   "cell_type": "code",
   "execution_count": null,
   "metadata": {},
   "outputs": [],
   "source": [
    "# Given variable\n",
    "colour = \"yellow\"\n",
    "\n",
    "# write your solution here"
   ]
  },
  {
   "cell_type": "markdown",
   "metadata": {},
   "source": [
    "## Problem 2\n",
    "\n",
    "Write a code fragment (i.e. one or more lines of code) that calculates the average of the three grades. Your code fragment should still calculate the correct average even if you change the values assigned to the three variables `grade1`, `grade2`, and `grade3`."
   ]
  },
  {
   "cell_type": "code",
   "execution_count": null,
   "metadata": {},
   "outputs": [],
   "source": [
    "grade1 = 80\n",
    "grade2 = 67\n",
    "grade3 = 91\n",
    "\n",
    "# write your solution here\n"
   ]
  },
  {
   "cell_type": "markdown",
   "metadata": {},
   "source": [
    "## Problem 3\n",
    "\n",
    "The following code fragment is supposed to add 15% tip to a cost (in cents) if `add_tip` is `True`, but it contains one or more errors. If `add_tip` is `False`, no tip should be added. Debug (fix) the code fragment until it is correct and runs without errors."
   ]
  },
  {
   "cell_type": "code",
   "execution_count": null,
   "metadata": {},
   "outputs": [],
   "source": [
    "cost = 2450\n",
    "add_tip = True\n",
    "\n",
    "if add_tip\n",
    "    cost = cost * .15"
   ]
  },
  {
   "cell_type": "markdown",
   "metadata": {},
   "source": [
    "## Problem 4\n",
    "\n",
    "Write the step-by-step evaluation of the expression `11 > 4 or 10 <= 9`. \n",
    "\n",
    "Note that you are allowed to elide steps as seen in Example 3 in\n",
    "Section 3.2.2 of the [Evaluation Rules document](https://edge.edx.org/courses/course-v1:UBC+CPSC103-101-102+2017W1/courseware/69acc3e200724a718f9b6dc4093a77ce/00cdc0b880e346a9b3b771fff3493563/?activate_block_id=block-v1%3AUBC%2BCPSC103-101-102%2B2017W1%2Btype%40sequential%2Bblock%4000cdc0b880e346a9b3b771fff3493563)."
   ]
  },
  {
   "cell_type": "code",
   "execution_count": null,
   "metadata": {},
   "outputs": [],
   "source": [
    "# Original expression\n",
    "11 > 4 or 10 <= 9\n",
    "\n",
    "# write your solution here"
   ]
  }
 ],
 "metadata": {
  "kernelspec": {
   "display_name": "Python 3",
   "language": "python",
   "name": "python3"
  },
  "language_info": {
   "codemirror_mode": {
    "name": "ipython",
    "version": 3
   },
   "file_extension": ".py",
   "mimetype": "text/x-python",
   "name": "python",
   "nbconvert_exporter": "python",
   "pygments_lexer": "ipython3",
   "version": "3.5.2"
  }
 },
 "nbformat": 4,
 "nbformat_minor": 1
}
